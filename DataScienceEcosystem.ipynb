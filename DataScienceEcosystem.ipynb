{
 "cells": [
  {
   "cell_type": "markdown",
   "id": "04b2fff5",
   "metadata": {},
   "source": [
    "#Data Science Tools and Ecosystem"
   ]
  },
  {
   "cell_type": "markdown",
   "id": "c35b3c89",
   "metadata": {},
   "source": [
    "***In this notebook, Data Science Tools and Ecosystem are summarized.***"
   ]
  },
  {
   "cell_type": "markdown",
   "id": "255ffb0f",
   "metadata": {},
   "source": [
    "___Objective:___"
   ]
  },
  {
   "cell_type": "markdown",
   "id": "9c6d5c28",
   "metadata": {},
   "source": [
    "- Popular languages\n",
    "- popular tools\n",
    "- popular opensources"
   ]
  },
  {
   "cell_type": "markdown",
   "id": "cfe26a7b",
   "metadata": {},
   "source": [
    "##Some of the popular languages that Data Scientists use are:\n",
    "1. Python\n",
    "2. Java\n",
    "3. Julia"
   ]
  },
  {
   "cell_type": "markdown",
   "id": "96a34de6",
   "metadata": {},
   "source": [
    "#Some of the commonly used libraries used by Data Scientists include:\n",
    "1. Numpy\n",
    "2. Pandas\n",
    "3. Matplotlib"
   ]
  },
  {
   "cell_type": "markdown",
   "id": "5962947d",
   "metadata": {},
   "source": [
    "#Data Science Tools\n",
    "| Jupyter Notebook |\n",
    "| RStudio |\n",
    "| Spyder |"
   ]
  },
  {
   "cell_type": "markdown",
   "id": "55d53b7f",
   "metadata": {},
   "source": [
    "#Data Science Tools\n",
    "|JupyterNotebook|\n",
    "|RStudio|\n",
    "|Spyder|"
   ]
  },
  {
   "cell_type": "markdown",
   "id": "fba46e9e",
   "metadata": {},
   "source": [
    "|Fruits | Quantity(Kg) | Price(In Rupee) | \n",
    "| ------ | ------ | ------ | \n",
    "| Apple | 2 |500|\n",
    "|Orange | 1 |200|\n",
    "| Mango | 3 |1000|\n",
    "| Grapes | 2 |400|\n"
   ]
  },
  {
   "cell_type": "markdown",
   "id": "6f56439d",
   "metadata": {},
   "source": [
    "|Data Science Tools| \n",
    "| ------ |\n",
    "| Apple |\n",
    "|Orange | \n",
    "| Mango | \n",
    "\n"
   ]
  },
  {
   "cell_type": "markdown",
   "id": "a5e0d932",
   "metadata": {},
   "source": [
    "|Data Science Tools|\n",
    "|JupyterNotebook|\n",
    "|RStudio|\n",
    "|Spyder|"
   ]
  },
  {
   "cell_type": "markdown",
   "id": "3a3b74a9",
   "metadata": {},
   "source": [
    "|Data Science Tools|\n",
    "|-----------|\n",
    "|JupyterNotebook|\n",
    "|RStudio| \n",
    "|Spyder|"
   ]
  },
  {
   "cell_type": "markdown",
   "id": "b9aeccdb",
   "metadata": {},
   "source": [
    "###Below are a few examples of evaluating arithmetic expressions in Python\n",
    "1. +\n",
    "2. -\n",
    "3  *\n",
    "4. /"
   ]
  },
  {
   "cell_type": "markdown",
   "id": "d1ed2dc8",
   "metadata": {},
   "source": [
    "###Below are a few examples of evaluating arithmetic expressions in Python\n",
    "1 1+1=2\n",
    "2 1-1=0\n",
    "3 1*1=1\n",
    "4 1/1=1"
   ]
  },
  {
   "cell_type": "markdown",
   "id": "27007d49",
   "metadata": {},
   "source": [
    "###Below are a few examples of evaluating arithmetic expressions in Python\n",
    "1 Addition\n",
    "2 Subtraction\n",
    "3 Multiplication\n",
    "4 Division"
   ]
  },
  {
   "cell_type": "code",
   "execution_count": 4,
   "id": "980b0860",
   "metadata": {},
   "outputs": [
    {
     "name": "stdout",
     "output_type": "stream",
     "text": [
      "17\n"
     ]
    }
   ],
   "source": [
    "a=(3*4)+5\n",
    "print(a) #This a simple arithmetic expression to mutiply then add integers."
   ]
  },
  {
   "cell_type": "code",
   "execution_count": 5,
   "id": "681c8641",
   "metadata": {},
   "outputs": [
    {
     "name": "stdout",
     "output_type": "stream",
     "text": [
      "3.3333333333333335\n"
     ]
    }
   ],
   "source": [
    "print(200/60) #This will convert 200 minutes to hours by diving by 60."
   ]
  },
  {
   "cell_type": "markdown",
   "id": "ab9b4a5b",
   "metadata": {},
   "source": [
    "## Author\n",
    "Sakshi Mohan"
   ]
  },
  {
   "cell_type": "code",
   "execution_count": null,
   "id": "c919ceb3",
   "metadata": {},
   "outputs": [],
   "source": []
  }
 ],
 "metadata": {
  "kernelspec": {
   "display_name": "Python 3 (ipykernel)",
   "language": "python",
   "name": "python3"
  },
  "language_info": {
   "codemirror_mode": {
    "name": "ipython",
    "version": 3
   },
   "file_extension": ".py",
   "mimetype": "text/x-python",
   "name": "python",
   "nbconvert_exporter": "python",
   "pygments_lexer": "ipython3",
   "version": "3.10.11"
  }
 },
 "nbformat": 4,
 "nbformat_minor": 5
}
